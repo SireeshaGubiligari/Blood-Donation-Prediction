{
 "cells": [
  {
   "cell_type": "code",
   "execution_count": 4,
   "id": "8bc1d464",
   "metadata": {},
   "outputs": [
    {
     "name": "stdout",
     "output_type": "stream",
     "text": [
      "Accuracy: 0.76\n",
      "Classification Report:\n",
      "               precision    recall  f1-score   support\n",
      "\n",
      "           0       0.77      0.97      0.86       113\n",
      "           1       0.57      0.11      0.18        37\n",
      "\n",
      "    accuracy                           0.76       150\n",
      "   macro avg       0.67      0.54      0.52       150\n",
      "weighted avg       0.72      0.76      0.69       150\n",
      "\n",
      "Predicted donation status: 0\n"
     ]
    },
    {
     "name": "stderr",
     "output_type": "stream",
     "text": [
      "C:\\Users\\gubil\\AppData\\Local\\Programs\\Python\\Python310\\lib\\site-packages\\sklearn\\base.py:439: UserWarning: X does not have valid feature names, but StandardScaler was fitted with feature names\n",
      "  warnings.warn(\n"
     ]
    }
   ],
   "source": [
    "import pandas as pd\n",
    "import numpy as np\n",
    "from sklearn.model_selection import train_test_split\n",
    "from sklearn.preprocessing import StandardScaler\n",
    "from sklearn.linear_model import LogisticRegression\n",
    "from sklearn.metrics import accuracy_score, classification_report\n",
    "\n",
    "# Load dataset\n",
    "file_path = \"transfusion.data\"\n",
    "df = pd.read_csv(file_path)\n",
    "\n",
    "# Feature selection\n",
    "X = df[['Recency (months)', 'Frequency (times)', 'Monetary (c.c. blood)', 'Time (months)']]\n",
    "y = df['whether he/she donated blood in March 2007']  # Binary target variable\n",
    "\n",
    "# Split the dataset\n",
    "X_train, X_test, y_train, y_test = train_test_split(X, y, test_size=0.2, random_state=42)\n",
    "\n",
    "# Standardize features\n",
    "scaler = StandardScaler()\n",
    "X_train = scaler.fit_transform(X_train)\n",
    "X_test = scaler.transform(X_test)\n",
    "\n",
    "# Train logistic regression model\n",
    "model = LogisticRegression()\n",
    "model.fit(X_train, y_train)\n",
    "\n",
    "# Make predictions\n",
    "y_pred = model.predict(X_test)\n",
    "\n",
    "# Evaluate the model\n",
    "accuracy = accuracy_score(y_test, y_pred)\n",
    "print(\"Accuracy:\", accuracy)\n",
    "print(\"Classification Report:\\n\", classification_report(y_test, y_pred))\n",
    "\n",
    "# Function to predict future donation\n",
    "def predict_donation(new_data):\n",
    "    new_data_scaled = scaler.transform([new_data])\n",
    "    return model.predict(new_data_scaled)[0]\n",
    "\n",
    "# Example usage\n",
    "new_donor = [2, 10, 2500, 50]  # Example input\n",
    "print(\"Predicted donation status:\", predict_donation(new_donor))\n"
   ]
  },
  {
   "cell_type": "code",
   "execution_count": null,
   "id": "c5933abc",
   "metadata": {},
   "outputs": [],
   "source": []
  }
 ],
 "metadata": {
  "kernelspec": {
   "display_name": "Python 3 (ipykernel)",
   "language": "python",
   "name": "python3"
  },
  "language_info": {
   "codemirror_mode": {
    "name": "ipython",
    "version": 3
   },
   "file_extension": ".py",
   "mimetype": "text/x-python",
   "name": "python",
   "nbconvert_exporter": "python",
   "pygments_lexer": "ipython3",
   "version": "3.10.2"
  }
 },
 "nbformat": 4,
 "nbformat_minor": 5
}
